{
 "cells": [
  {
   "cell_type": "markdown",
   "metadata": {},
   "source": [
    "# Functions"
   ]
  },
  {
   "cell_type": "markdown",
   "metadata": {},
   "source": [
    "A function is a block of code which only runs when it is called.\n",
    "\n",
    "You can pass data, known as parameters, into a function.\n",
    "\n",
    "A function can return data as a result.\n",
    "\n",
    "In Python, all the loops, if/Else, functions and functions are intended. Make sure all these are properly intended correctly\n",
    "\n",
    "In Python a function is defined using the <strong>def</strong> keyword:"
   ]
  },
  {
   "cell_type": "code",
   "execution_count": 2,
   "metadata": {},
   "outputs": [
    {
     "name": "stdout",
     "output_type": "stream",
     "text": [
      "Hello, Animesh\n"
     ]
    }
   ],
   "source": [
    "def sayhello(name):\n",
    "    print(\"Hello, \"+name)\n",
    "sayhello(\"Animesh\")"
   ]
  },
  {
   "cell_type": "code",
   "execution_count": 4,
   "metadata": {},
   "outputs": [
    {
     "name": "stdout",
     "output_type": "stream",
     "text": [
      "Sai\n",
      "Atul\n",
      "Niranjan\n"
     ]
    }
   ],
   "source": [
    "def my_function(fname):\n",
    "    print(fname)\n",
    "\n",
    "my_function(\"Sai\")\n",
    "my_function(\"Atul\")\n",
    "my_function(\"Niranjan\")"
   ]
  },
  {
   "cell_type": "code",
   "execution_count": 7,
   "metadata": {},
   "outputs": [
    {
     "name": "stdout",
     "output_type": "stream",
     "text": [
      "Hello, Animesh Singh\n"
     ]
    }
   ],
   "source": [
    "def my_function(fname, lname):\n",
    "    print(\"Hello, \" + fname + \" \" + lname)\n",
    "\n",
    "my_function(\"Animesh\", \"Singh\")"
   ]
  },
  {
   "cell_type": "markdown",
   "metadata": {},
   "source": [
    "<hr>"
   ]
  },
  {
   "cell_type": "markdown",
   "metadata": {},
   "source": [
    "# Return in Function"
   ]
  },
  {
   "cell_type": "code",
   "execution_count": 9,
   "metadata": {},
   "outputs": [
    {
     "name": "stdout",
     "output_type": "stream",
     "text": [
      "15\n",
      "25\n",
      "45\n"
     ]
    }
   ],
   "source": [
    "def my_function(x):\n",
    "    return 5 * x\n",
    "print(my_function(3))\n",
    "print(my_function(5))\n",
    "print(my_function(9))"
   ]
  },
  {
   "cell_type": "markdown",
   "metadata": {},
   "source": [
    "<hr>"
   ]
  },
  {
   "cell_type": "markdown",
   "metadata": {},
   "source": [
    "# The pass Statement\n",
    "function definitions cannot be empty, but if you for some reason have a function definition with no content, put in the pass statement to avoid getting an error."
   ]
  },
  {
   "cell_type": "code",
   "execution_count": 11,
   "metadata": {},
   "outputs": [],
   "source": [
    "def myfunction():\n",
    "    pass"
   ]
  },
  {
   "cell_type": "markdown",
   "metadata": {},
   "source": [
    "<hr>"
   ]
  },
  {
   "cell_type": "markdown",
   "metadata": {},
   "source": [
    "# More Types of Functions"
   ]
  },
  {
   "cell_type": "markdown",
   "metadata": {},
   "source": [
    "<h3> Inner function : </h3><br>\n",
    "Function inside the function \n"
   ]
  },
  {
   "cell_type": "code",
   "execution_count": 12,
   "metadata": {},
   "outputs": [
    {
     "name": "stdout",
     "output_type": "stream",
     "text": [
      "Hi Animesh\n",
      "Hey Animesh ! where are u from ?\n"
     ]
    }
   ],
   "source": [
    "def sayhi(name):\n",
    "    print('Hi', name)\n",
    "    def getaddress(name1):\n",
    "        print('Hey', name1 , '! where are u from ?')\n",
    "    getaddress(name)\n",
    "sayhi('Animesh')\n"
   ]
  },
  {
   "cell_type": "markdown",
   "metadata": {},
   "source": [
    "sayhi get's called first, so after when the execution goes inside the <strong>sayhi</strong> function it prints <strong>\"Hi Animesh\"</strong> then it directly goes to line number 5 then it @line 5 it will call <strong>getadress</strong> function, so it will execute print statement"
   ]
  },
  {
   "cell_type": "markdown",
   "metadata": {},
   "source": [
    "<hr>"
   ]
  },
  {
   "cell_type": "markdown",
   "metadata": {},
   "source": [
    "# High order function"
   ]
  },
  {
   "cell_type": "markdown",
   "metadata": {},
   "source": [
    "Python allows us to pass functions definition as parameter to another function"
   ]
  },
  {
   "cell_type": "code",
   "execution_count": null,
   "metadata": {},
   "outputs": [],
   "source": [
    "def hi():\n",
    "    return \"I say Hi!\"\n",
    "\n",
    "def hello():\n",
    "    return \"I say HELLO!\"\n",
    "def  greeting(fn):\n",
    "    #storing the function in a variable\n",
    "    greet=fn()\n",
    "    print(greet)\n",
    "    \n",
    "greeting(hi) #passing \n",
    "greeting(hello)\n"
   ]
  }
 ],
 "metadata": {
  "kernelspec": {
   "display_name": "Python 3",
   "language": "python",
   "name": "python3"
  },
  "language_info": {
   "codemirror_mode": {
    "name": "ipython",
    "version": 3
   },
   "file_extension": ".py",
   "mimetype": "text/x-python",
   "name": "python",
   "nbconvert_exporter": "python",
   "pygments_lexer": "ipython3",
   "version": "3.6.4"
  }
 },
 "nbformat": 4,
 "nbformat_minor": 2
}
