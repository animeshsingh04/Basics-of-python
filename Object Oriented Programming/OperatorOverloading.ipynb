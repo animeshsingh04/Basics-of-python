{
 "cells": [
  {
   "cell_type": "markdown",
   "metadata": {},
   "source": [
    "# Operator Overloading"
   ]
  },
  {
   "cell_type": "markdown",
   "metadata": {},
   "source": [
    "Operator Overloading means giving extended meaning beyond their predefined operational meaning."
   ]
  },
  {
   "cell_type": "markdown",
   "metadata": {},
   "source": [
    "If you're familiar with c++/java operator overloading then this won't take much time to grasp.<br>\n",
    "You would have already seen you can use + operator for adding numbers and at the same time to concatenate strings as well as merge two lists. It is possible because + operator is overloaded by it, float, double , str, list, class etc etc....<br>\n",
    "<br>You might have noticed that the same built-in operator or function shows different behavior for objects of different classes, this is called Operator Overloading."
   ]
  },
  {
   "cell_type": "code",
   "execution_count": 1,
   "metadata": {},
   "outputs": [
    {
     "name": "stdout",
     "output_type": "stream",
     "text": [
      "Result of Complex Addition:  10+i5\n"
     ]
    }
   ],
   "source": [
    "class ComplexNumber:\n",
    "    def __init__(self, a, b):\n",
    "        \n",
    "        self.a = a\n",
    "        self.b = b\n",
    "        \n",
    "    def __add__(self, other):\n",
    "        return ComplexNumber(self.a + other.a, self.b + other.b)\n",
    "    \n",
    "    def __str__(self):\n",
    "        return \"{x}+i{y}\".format(x=self.a, y=self.b)\n",
    "    \n",
    "    #Rich built-in functions given by python\n",
    "            \n",
    "    def __eq__(self, other): #__eq__ is equal\n",
    "        return self.compare_complex_numbers(other) is None\n",
    "    \n",
    "    def __ne__(self, other): # not equal\n",
    "        return self.compare_complex_numbers(other) is not None\n",
    "    \n",
    "    def __lt__(self, other): # lessthan\n",
    "        return self.compare_complex_numbers(other) is False\n",
    "    \n",
    "\n",
    "    def __le__(self, other): #less then or equal to\n",
    "        return self.compare_complex_numbers(other) is False or  self.compare_complex_numbers(other) is None\n",
    "    \n",
    "    def __gt__(self, other): # greater than\n",
    "        return self.compare_complex_numbers(other) is True\n",
    "    \n",
    "    def __ge__(self, other): #greater than or equal\n",
    "        return self.compare_complex_numbers(other) is True or self.compare_complex_numbers(other) is None\n",
    "\n",
    "    def compare_complex_numbers(self, other):\n",
    "        if self.a > other.a:\n",
    "            return True\n",
    "        elif self.a < other.a:\n",
    "            return False\n",
    "        elif self.a == other.a:\n",
    "            if self.b > other.b:\n",
    "                return True\n",
    "            elif self.b < other.b:\n",
    "                return False\n",
    "            else:\n",
    "                return None\n",
    "\n",
    "\n",
    "cn1 = ComplexNumber(3,3)\n",
    "cn2 = ComplexNumber(7,2)\n",
    "# Operator Overloading\n",
    "cn3 = cn1 + cn2\n",
    "print('Result of Complex Addition: ',cn3)\n",
    "# Object Comparison\n",
    "\n"
   ]
  },
  {
   "cell_type": "code",
   "execution_count": 2,
   "metadata": {},
   "outputs": [
    {
     "name": "stdout",
     "output_type": "stream",
     "text": [
      "Equal : False\n"
     ]
    }
   ],
   "source": [
    "print('Equal :',cn1 == cn2)"
   ]
  },
  {
   "cell_type": "code",
   "execution_count": 3,
   "metadata": {},
   "outputs": [
    {
     "name": "stdout",
     "output_type": "stream",
     "text": [
      "Not Equal : True\n"
     ]
    }
   ],
   "source": [
    "print('Not Equal :',cn1 != cn2)"
   ]
  },
  {
   "cell_type": "code",
   "execution_count": 4,
   "metadata": {},
   "outputs": [
    {
     "name": "stdout",
     "output_type": "stream",
     "text": [
      "Greater : False\n"
     ]
    }
   ],
   "source": [
    "print('Greater :',cn1 > cn2)"
   ]
  },
  {
   "cell_type": "code",
   "execution_count": 5,
   "metadata": {},
   "outputs": [
    {
     "name": "stdout",
     "output_type": "stream",
     "text": [
      "Greater or Equal : False\n"
     ]
    }
   ],
   "source": [
    "print('Greater or Equal :',cn1 >= cn2)"
   ]
  },
  {
   "cell_type": "code",
   "execution_count": 6,
   "metadata": {},
   "outputs": [
    {
     "name": "stdout",
     "output_type": "stream",
     "text": [
      "Lesser : True\n"
     ]
    }
   ],
   "source": [
    "print('Lesser :',cn1 < cn2)"
   ]
  },
  {
   "cell_type": "code",
   "execution_count": 7,
   "metadata": {},
   "outputs": [
    {
     "name": "stdout",
     "output_type": "stream",
     "text": [
      "Lesser or Equal : True\n"
     ]
    }
   ],
   "source": [
    "print('Lesser or Equal :',cn1 <= cn2)"
   ]
  },
  {
   "cell_type": "code",
   "execution_count": null,
   "metadata": {},
   "outputs": [],
   "source": []
  }
 ],
 "metadata": {
  "kernelspec": {
   "display_name": "Python 3",
   "language": "python",
   "name": "python3"
  },
  "language_info": {
   "codemirror_mode": {
    "name": "ipython",
    "version": 3
   },
   "file_extension": ".py",
   "mimetype": "text/x-python",
   "name": "python",
   "nbconvert_exporter": "python",
   "pygments_lexer": "ipython3",
   "version": "3.6.4"
  }
 },
 "nbformat": 4,
 "nbformat_minor": 2
}
