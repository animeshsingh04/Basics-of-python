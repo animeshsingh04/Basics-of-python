{
 "cells": [
  {
   "cell_type": "markdown",
   "metadata": {},
   "source": [
    "# Inheritance\n",
    "Inheritance allows us to define a class that inherits all the methods and properties from another class.\n",
    "\n",
    "Parent class is the class being inherited from, also called base class.\n",
    "\n",
    "Child class is the class that inherits from another class, also called derived class."
   ]
  },
  {
   "cell_type": "markdown",
   "metadata": {},
   "source": [
    "<h2> The below sample is an example of Multiple and  Multilevel Inheritance </h2>"
   ]
  },
  {
   "cell_type": "markdown",
   "metadata": {},
   "source": [
    "# Create a Parent Class\n",
    "Any class can be a parent class, so the syntax is the same as creating any other class:\n",
    "\n",
    "Use the <strong>pass</strong> keyword when you do not want to add any other properties or methods to the class."
   ]
  },
  {
   "cell_type": "code",
   "execution_count": 2,
   "metadata": {},
   "outputs": [
    {
     "name": "stdout",
     "output_type": "stream",
     "text": [
      "Vehicle Class\n"
     ]
    }
   ],
   "source": [
    "class Vehicle(object):\n",
    "    \n",
    "    __no_of_vehicles = 0\n",
    "    def __init__(self, color, model_year, make):\n",
    "        \n",
    "        print('Vehicle Class')\n",
    "        self.color = color\n",
    "        self.model_year = model_year\n",
    "        self.make = make\n",
    "        Vehicle.__no_of_vehicles+=1\n",
    "    def start(self):\n",
    "        pass\n",
    "    def accelerate(self):\n",
    "        pass\n",
    "    def apply_break(self):\n",
    "        pass\n",
    "    def stop(self):\n",
    "        pass\n",
    "    def horn(self):\n",
    "        pass\n",
    "vechile = Vehicle(\"Red\",2008,\"Maruti\")"
   ]
  },
  {
   "cell_type": "markdown",
   "metadata": {},
   "source": [
    "# Create a Child Class\n",
    "To create a class that inherits the functionality from another class, send the parent class as a parameter when creating the child class:\n",
    "\n",
    "Create a class named FuelVehicle, which will inherit the properties and methods from the Vehicle class:"
   ]
  },
  {
   "cell_type": "code",
   "execution_count": 3,
   "metadata": {},
   "outputs": [],
   "source": [
    "class FuelVehicle(Vehicle):\n",
    "    __no_of_FuelVehicles = 0\n",
    "    def __init__(self, color, model_year, make, cc, fuel_type):\n",
    "        print('Fuel Vehicle')\n",
    "        super().__init__(color, model_year, make)\n",
    "        self.cc = cc\n",
    "        self.fuel_type = fuel_type\n",
    "        FuelVehicle.__no_of_FuelVehicles+=1\n",
    "    def pull_choke(self):\n",
    "        pass\n",
    "    def push_choke(self):\n",
    "        pass\n",
    "    def display_fuel_remaining(self):\n",
    "        pass\n",
    "    def switch_to_reserve(self):\n",
    "        pass\n",
    "    def common(self):\n",
    "        print('Fuel Common')\n",
    "\n",
    "class ElectricVehicle(Vehicle):\n",
    "    __no_of_ElectricVehicle = 0\n",
    "    def __init__(self, color, model_year, make, distance_per_charge, charging_time):\n",
    "        print('Electric Vehicle')\n",
    "        super().__init__(color, model_year, make)\n",
    "        self.distance_per_charge = distance_per_charge\n",
    "        self.charging_time = charging_time\n",
    "        ElectricVehicle.__no_of_ElectricVehicle+=1\n",
    "    def display_battery_level(self):\n",
    "        pass\n",
    "    def recharge_battery(self):\n",
    "        pass\n",
    "    def common(self):\n",
    "        print('Electric Common')"
   ]
  },
  {
   "cell_type": "markdown",
   "metadata": {},
   "source": [
    "When you add the __init__() function, the child class will no longer inherit the parent's __init__() function.\n",
    "<br></br>\n",
    "<strong>Note:</strong> The child's __init__() function overrides the inheritance of the parent's __init__() function."
   ]
  },
  {
   "cell_type": "markdown",
   "metadata": {},
   "source": [
    "Create a class named HybridVehicle, which will inherit the properties and methods from the FuelVehicle and ElectricVehicle  class:"
   ]
  },
  {
   "cell_type": "markdown",
   "metadata": {},
   "source": [
    "To keep the inheritance of the parent's __init__() function, add a call to the parent's __init__() function: The way it's been implemented below'"
   ]
  },
  {
   "cell_type": "markdown",
   "metadata": {},
   "source": [
    "<h3>Hybrid Vehicle is inheriting from both Fuel and Electric Vehicle, classic example of Both MultipleInheritance </h3>"
   ]
  },
  {
   "cell_type": "code",
   "execution_count": 4,
   "metadata": {},
   "outputs": [],
   "source": [
    "class HybridVehicle(FuelVehicle, ElectricVehicle):\n",
    "    ___no_of_HybridVehicles = 0\n",
    "    def __init__(self, color, model_year, make, cc, fuel_type, distance_per_charge, charging_time):\n",
    "        print('Hybrid Vehicle')\n",
    "        #FuelVehicle.__init__(self, color, model_year, make, cc, fuel_type) # adding parent's init() function\n",
    "        ElectricVehicle.__init__(self,color, model_year, make, distance_per_charge, charging_time) # adding parent's init() function\n",
    "        HybridVehicle.___no_of_HybridVehicles+=1"
   ]
  },
  {
   "cell_type": "markdown",
   "metadata": {},
   "source": [
    "Create a class for each type of Vehicle i.e ( FuelCar, ElectricCar,HybridCar)"
   ]
  },
  {
   "cell_type": "markdown",
   "metadata": {},
   "source": [
    "Instead of explicitly adding <strong>adding parent's init()</strong> Python also has a <strong>super()</strong> function that will make the child class inherit all the methods and properties from its parent"
   ]
  },
  {
   "cell_type": "code",
   "execution_count": 5,
   "metadata": {},
   "outputs": [],
   "source": [
    "class Car(FuelVehicle):\n",
    "    __no_of_Cars = 0\n",
    "    no_of_wheels = 4\n",
    "    def __init__(self, color, model_year, make, cc, fuel_type, gears, max_passenger=5, auto_gear=False):\n",
    "        print('Car')\n",
    "        super().__init__(color, model_year, make, cc, fuel_type)  # adding super function, so it inherits the parent class\n",
    "        self.max_passenger = max_passenger\n",
    "        self.gears = gears\n",
    "        self.auto_gear = auto_gear\n",
    "        Car.__no_of_Cars+=1\n",
    "\n",
    "class ElectricCar(ElectricVehicle):\n",
    "    __no_of_ElectricCars = 0\n",
    "    no_of_wheels = 4\n",
    "    def __init__(self, color, model_year, make,  distance_per_charge, charging_time, gears, max_passenger=5, auto_gear=False):\n",
    "        print('Electric Car')\n",
    "        super().__init__(color, model_year, make, distance_per_charge, charging_time)\n",
    "        self.max_passenger = max_passenger\n",
    "        self.gears = gears\n",
    "        self.auto_gear = auto_gear\n",
    "        ElectricCar.__no_of_ElectricCars+=1\n",
    "\n",
    "class HybridCar(HybridVehicle):\n",
    "    __no_of_HybridCars = 0\n",
    "    no_of_wheels = 4\n",
    "    def __init__(self, color, model_year, make, cc, fuel_type, distance_per_charge, charging_time, gears, max_passenger=5, auto_gear=False):\n",
    "        print('Hybrid Car')\n",
    "        super().__init__(color, model_year, make, cc, fuel_type, distance_per_charge, charging_time)\n",
    "        self.max_passenger = max_passenger\n",
    "        self.gears = gears\n",
    "        self.auto_gear = auto_gear\n",
    "        HybridCar.__no_of_HybridCars+=1"
   ]
  },
  {
   "cell_type": "code",
   "execution_count": 6,
   "metadata": {},
   "outputs": [
    {
     "name": "stdout",
     "output_type": "stream",
     "text": [
      "Car\n",
      "Fuel Vehicle\n",
      "Vehicle Class\n",
      "Electric Car\n",
      "Electric Vehicle\n",
      "Vehicle Class\n",
      "Hybrid Car\n",
      "Hybrid Vehicle\n",
      "Electric Vehicle\n",
      "Vehicle Class\n",
      "No of Vehicles:  4\n"
     ]
    }
   ],
   "source": [
    "if __name__ == '__main__':\n",
    "    alto800 = Car('White',2018,'Maruti',800,'Petrol',4,4)\n",
    "    tesla = ElectricCar('Silver',2017,'Tesla',300,4,6,2,True)\n",
    "    camry = HybridCar('Black',2020,'Toyota',1200,'Diesel',500,6,5,auto_gear=True)\n",
    "    print('No of Vehicles: ',Vehicle._Vehicle__no_of_vehicles) # brain storm how "
   ]
  },
  {
   "cell_type": "code",
   "execution_count": null,
   "metadata": {},
   "outputs": [],
   "source": []
  }
 ],
 "metadata": {
  "kernelspec": {
   "display_name": "Python 3",
   "language": "python",
   "name": "python3"
  },
  "language_info": {
   "codemirror_mode": {
    "name": "ipython",
    "version": 3
   },
   "file_extension": ".py",
   "mimetype": "text/x-python",
   "name": "python",
   "nbconvert_exporter": "python",
   "pygments_lexer": "ipython3",
   "version": "3.6.4"
  }
 },
 "nbformat": 4,
 "nbformat_minor": 2
}
