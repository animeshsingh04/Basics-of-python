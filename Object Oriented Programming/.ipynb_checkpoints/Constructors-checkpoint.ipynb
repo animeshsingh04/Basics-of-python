{
 "cells": [
  {
   "cell_type": "markdown",
   "metadata": {},
   "source": [
    "# Class And Constructor"
   ]
  },
  {
   "cell_type": "markdown",
   "metadata": {},
   "source": [
    "Classes are used to create new user-defined data structures that contain arbitrary information about something.\n",
    "\n",
    "An instance or an object is a copy of the class with actual values, literally an object belonging to a specific class\n",
    "\n",
    "Every object has a state (memory), behaviour (methods which might vary based on age or any object specific variable values) and an identity (Python assigned Id value)\n",
    "\n",
    "The first method __init__() is a special method, which is called class constructor or initialization method that Python calls when you create a new instance of this class.\n"
   ]
  },
  {
   "cell_type": "code",
   "execution_count": 5,
   "metadata": {},
   "outputs": [
    {
     "name": "stdout",
     "output_type": "stream",
     "text": [
      "Created an Instance of Class MyClass in __main__ Module, Total Instance Count is 1\n",
      "Created an Instance of Class MyClass in __main__ Module, Total Instance Count is 2\n"
     ]
    }
   ],
   "source": [
    "class MyClass:\n",
    "    intancesCount = 0\n",
    "    def __init__(self):\n",
    "        self.__class__.intancesCount+=1\n",
    "        self.MyVariable = None\n",
    "        class_name = self.__class__.__name__\n",
    "        module_name = MyClass.__module__\n",
    "        print (\"Created an Instance of Class {0} in {1} Module, Total Instance Count is {2}\"\n",
    "               .format(class_name,module_name,self.__class__.intancesCount))\n",
    "\n",
    "obj1 = MyClass() # Initialzing class\n",
    "obj2 = obj1 # pt2 references pt1\n",
    "obj3 = obj2 # pt3 references pt2\n",
    "obj4 = MyClass() # different object refrence\n"
   ]
  },
  {
   "cell_type": "markdown",
   "metadata": {},
   "source": [
    "Below example shows how to access the class method after instatiating the class"
   ]
  },
  {
   "cell_type": "code",
   "execution_count": 10,
   "metadata": {},
   "outputs": [
    {
     "name": "stdout",
     "output_type": "stream",
     "text": [
      "Area of Rectangle is 4 m²\n",
      "Accessing the class property \"area\" with object refrence\n"
     ]
    }
   ],
   "source": [
    "import math\n",
    "\n",
    "class Rectangle:\n",
    "    def printArea(self, w, h, unit='m'):\n",
    "        self.area = w * h\n",
    "        print('Area of Rectangle is {0} {1}\\u00b2'.format(self.area,unit))\n",
    "\n",
    "myRectangle = Rectangle()\n",
    "myRectangle.printArea(2,2)\n",
    "print('Accessing the class property \"area\" with object refrence'.format(myRectangle.area))"
   ]
  },
  {
   "cell_type": "code",
   "execution_count": 11,
   "metadata": {},
   "outputs": [
    {
     "name": "stdout",
     "output_type": "stream",
     "text": [
      "Circle created with area 78.54 m²\n",
      "Circle created with area 314.16 mm²\n",
      "Circle created with area 3.14 cm²\n"
     ]
    }
   ],
   "source": [
    "class Circle:\n",
    "    def __init__(self, radius, unit='m'):\n",
    "        self.area = round(math.pi * (radius**2),2)\n",
    "        print('Circle created with area {0} {1}\\u00b2'.format(self.area,unit))\n",
    "\n",
    "BigCircle = Circle(5)\n",
    "SmallCircle = Circle(10,'mm')\n",
    "MediumCircle = Circle(1,unit='cm')"
   ]
  },
  {
   "cell_type": "code",
   "execution_count": null,
   "metadata": {},
   "outputs": [],
   "source": []
  }
 ],
 "metadata": {
  "kernelspec": {
   "display_name": "Python 3",
   "language": "python",
   "name": "python3"
  },
  "language_info": {
   "codemirror_mode": {
    "name": "ipython",
    "version": 3
   },
   "file_extension": ".py",
   "mimetype": "text/x-python",
   "name": "python",
   "nbconvert_exporter": "python",
   "pygments_lexer": "ipython3",
   "version": "3.6.4"
  }
 },
 "nbformat": 4,
 "nbformat_minor": 2
}
