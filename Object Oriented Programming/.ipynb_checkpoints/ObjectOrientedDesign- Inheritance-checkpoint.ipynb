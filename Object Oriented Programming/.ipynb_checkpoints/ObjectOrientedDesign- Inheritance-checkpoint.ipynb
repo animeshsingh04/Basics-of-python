{
 "cells": [
  {
   "cell_type": "markdown",
   "metadata": {},
   "source": [
    "# Inheritance\n",
    "Inheritance allows us to define a class that inherits all the methods and properties from another class.\n",
    "\n",
    "Parent class is the class being inherited from, also called base class.\n",
    "\n",
    "Child class is the class that inherits from another class, also called derived class."
   ]
  },
  {
   "cell_type": "markdown",
   "metadata": {},
   "source": [
    "# Create a Parent Class\n",
    "Any class can be a parent class, so the syntax is the same as creating any other class:\n",
    "\n",
    "Use the <strong>pass</strong> keyword when you do not want to add any other properties or methods to the class."
   ]
  },
  {
   "cell_type": "code",
   "execution_count": 21,
   "metadata": {},
   "outputs": [
    {
     "name": "stdout",
     "output_type": "stream",
     "text": [
      "Vehicle Class\n"
     ]
    }
   ],
   "source": [
    "class Vehicle(object):\n",
    "    \n",
    "    __no_of_vehicles = 0\n",
    "    def __init__(self, color, model_year, make):\n",
    "        \n",
    "        print('Vehicle Class')\n",
    "        self.color = color\n",
    "        self.model_year = model_year\n",
    "        self.make = make\n",
    "        Vehicle.__no_of_vehicles+=1\n",
    "    def start(self):\n",
    "        pass\n",
    "    def accelerate(self):\n",
    "        pass\n",
    "    def apply_break(self):\n",
    "        pass\n",
    "    def stop(self):\n",
    "        pass\n",
    "    def horn(self):\n",
    "        pass\n",
    "vechile = Vehicle(\"Red\",2008,\"Maruti\")"
   ]
  },
  {
   "cell_type": "markdown",
   "metadata": {},
   "source": [
    "# Create a Child Class\n",
    "To create a class that inherits the functionality from another class, send the parent class as a parameter when creating the child class:\n",
    "\n",
    "Create a class named FuelVehicle, which will inherit the properties and methods from the Vehicle class:"
   ]
  },
  {
   "cell_type": "code",
   "execution_count": 22,
   "metadata": {},
   "outputs": [],
   "source": [
    "class FuelVehicle(Vehicle):\n",
    "    __no_of_FuelVehicles = 0\n",
    "    def __init__(self, color, model_year, make, cc, fuel_type):\n",
    "        print('Fuel Vehicle')\n",
    "        super().__init__(color, model_year, make)\n",
    "        self.cc = cc\n",
    "        self.fuel_type = fuel_type\n",
    "        FuelVehicle.__no_of_FuelVehicles+=1\n",
    "    def pull_choke(self):\n",
    "        pass\n",
    "    def push_choke(self):\n",
    "        pass\n",
    "    def display_fuel_remaining(self):\n",
    "        pass\n",
    "    def switch_to_reserve(self):\n",
    "        pass\n",
    "    def common(self):\n",
    "        print('Fuel Common')\n",
    "\n",
    "class ElectricVehicle(Vehicle):\n",
    "    __no_of_ElectricVehicle = 0\n",
    "    def __init__(self, color, model_year, make, distance_per_charge, charging_time):\n",
    "        print('Electric Vehicle')\n",
    "        super().__init__(color, model_year, make)\n",
    "        self.distance_per_charge = distance_per_charge\n",
    "        self.charging_time = charging_time\n",
    "        ElectricVehicle.__no_of_ElectricVehicle+=1\n",
    "    def display_battery_level(self):\n",
    "        pass\n",
    "    def recharge_battery(self):\n",
    "        pass\n",
    "    def common(self):\n",
    "        print('Electric Common')"
   ]
  },
  {
   "cell_type": "markdown",
   "metadata": {},
   "source": [
    "When you add the __init__() function, the child class will no longer inherit the parent's __init__() function.\n",
    "<br></br>\n",
    "<strong>Note:</strong> The child's __init__() function overrides the inheritance of the parent's __init__() function."
   ]
  },
  {
   "cell_type": "markdown",
   "metadata": {},
   "source": [
    "Create a class named HybridVehicle, which will inherit the properties and methods from the FuelVehicle and ElectricVehicle  class:"
   ]
  },
  {
   "cell_type": "markdown",
   "metadata": {},
   "source": [
    "To keep the inheritance of the parent's __init__() function, add a call to the parent's __init__() function: The way it's been implemented below'"
   ]
  },
  {
   "cell_type": "code",
   "execution_count": 23,
   "metadata": {},
   "outputs": [],
   "source": [
    "class HybridVehicle(FuelVehicle, ElectricVehicle):\n",
    "    ___no_of_HybridVehicles = 0\n",
    "    def __init__(self, color, model_year, make, cc, fuel_type, distance_per_charge, charging_time):\n",
    "        print('Hybrid Vehicle')\n",
    "        #FuelVehicle.__init__(self, color, model_year, make, cc, fuel_type) # adding parent's init() function\n",
    "        ElectricVehicle.__init__(self,color, model_year, make, distance_per_charge, charging_time) # adding parent's init() function\n",
    "        HybridVehicle.___no_of_HybridVehicles+=1"
   ]
  },
  {
   "cell_type": "markdown",
   "metadata": {},
   "source": [
    "Create a class for each type of Vehicle i.e ( FuelCar, ElectricCar,HybridCar)"
   ]
  },
  {
   "cell_type": "markdown",
   "metadata": {},
   "source": [
    "Instead of explicitly adding <strong>adding parent's init()</strong> Python also has a <strong>super()</strong> function that will make the child class inherit all the methods and properties from its parent"
   ]
  },
  {
   "cell_type": "code",
   "execution_count": 24,
   "metadata": {},
   "outputs": [],
   "source": [
    "class Car(FuelVehicle):\n",
    "    __no_of_Cars = 0\n",
    "    no_of_wheels = 4\n",
    "    def __init__(self, color, model_year, make, cc, fuel_type, gears, max_passenger=5, auto_gear=False):\n",
    "        print('Car')\n",
    "        super().__init__(color, model_year, make, cc, fuel_type)  # adding super function, so it inherits the parent class\n",
    "        self.max_passenger = max_passenger\n",
    "        self.gears = gears\n",
    "        self.auto_gear = auto_gear\n",
    "        Car.__no_of_Cars+=1\n",
    "\n",
    "class ElectricCar(ElectricVehicle):\n",
    "    __no_of_ElectricCars = 0\n",
    "    no_of_wheels = 4\n",
    "    def __init__(self, color, model_year, make,  distance_per_charge, charging_time, gears, max_passenger=5, auto_gear=False):\n",
    "        print('Electric Car')\n",
    "        super().__init__(color, model_year, make, distance_per_charge, charging_time)\n",
    "        self.max_passenger = max_passenger\n",
    "        self.gears = gears\n",
    "        self.auto_gear = auto_gear\n",
    "        ElectricCar.__no_of_ElectricCars+=1\n",
    "\n",
    "class HybridCar(HybridVehicle):\n",
    "    __no_of_HybridCars = 0\n",
    "    no_of_wheels = 4\n",
    "    def __init__(self, color, model_year, make, cc, fuel_type, distance_per_charge, charging_time, gears, max_passenger=5, auto_gear=False):\n",
    "        print('Hybrid Car')\n",
    "        super().__init__(color, model_year, make, cc, fuel_type, distance_per_charge, charging_time)\n",
    "        self.max_passenger = max_passenger\n",
    "        self.gears = gears\n",
    "        self.auto_gear = auto_gear\n",
    "        HybridCar.__no_of_HybridCars+=1"
   ]
  },
  {
   "cell_type": "code",
   "execution_count": 25,
   "metadata": {},
   "outputs": [
    {
     "name": "stdout",
     "output_type": "stream",
     "text": [
      "Car\n",
      "Fuel Vehicle\n",
      "Vehicle Class\n",
      "Electric Car\n",
      "Electric Vehicle\n",
      "Vehicle Class\n",
      "Hybrid Car\n",
      "Hybrid Vehicle\n",
      "Fuel Vehicle\n"
     ]
    },
    {
     "ename": "TypeError",
     "evalue": "__init__() missing 2 required positional arguments: 'distance_per_charge' and 'charging_time'",
     "output_type": "error",
     "traceback": [
      "\u001b[1;31m---------------------------------------------------------------------------\u001b[0m",
      "\u001b[1;31mTypeError\u001b[0m                                 Traceback (most recent call last)",
      "\u001b[1;32m<ipython-input-25-d23e8d470a48>\u001b[0m in \u001b[0;36m<module>\u001b[1;34m()\u001b[0m\n\u001b[0;32m      2\u001b[0m     \u001b[0malto800\u001b[0m \u001b[1;33m=\u001b[0m \u001b[0mCar\u001b[0m\u001b[1;33m(\u001b[0m\u001b[1;34m'White'\u001b[0m\u001b[1;33m,\u001b[0m\u001b[1;36m2018\u001b[0m\u001b[1;33m,\u001b[0m\u001b[1;34m'Maruti'\u001b[0m\u001b[1;33m,\u001b[0m\u001b[1;36m800\u001b[0m\u001b[1;33m,\u001b[0m\u001b[1;34m'Petrol'\u001b[0m\u001b[1;33m,\u001b[0m\u001b[1;36m4\u001b[0m\u001b[1;33m,\u001b[0m\u001b[1;36m4\u001b[0m\u001b[1;33m)\u001b[0m\u001b[1;33m\u001b[0m\u001b[0m\n\u001b[0;32m      3\u001b[0m     \u001b[0mtesla\u001b[0m \u001b[1;33m=\u001b[0m \u001b[0mElectricCar\u001b[0m\u001b[1;33m(\u001b[0m\u001b[1;34m'Silver'\u001b[0m\u001b[1;33m,\u001b[0m\u001b[1;36m2017\u001b[0m\u001b[1;33m,\u001b[0m\u001b[1;34m'Tesla'\u001b[0m\u001b[1;33m,\u001b[0m\u001b[1;36m300\u001b[0m\u001b[1;33m,\u001b[0m\u001b[1;36m4\u001b[0m\u001b[1;33m,\u001b[0m\u001b[1;36m6\u001b[0m\u001b[1;33m,\u001b[0m\u001b[1;36m2\u001b[0m\u001b[1;33m,\u001b[0m\u001b[1;32mTrue\u001b[0m\u001b[1;33m)\u001b[0m\u001b[1;33m\u001b[0m\u001b[0m\n\u001b[1;32m----> 4\u001b[1;33m     \u001b[0mcamry\u001b[0m \u001b[1;33m=\u001b[0m \u001b[0mHybridCar\u001b[0m\u001b[1;33m(\u001b[0m\u001b[1;34m'Black'\u001b[0m\u001b[1;33m,\u001b[0m\u001b[1;36m2020\u001b[0m\u001b[1;33m,\u001b[0m\u001b[1;34m'Toyota'\u001b[0m\u001b[1;33m,\u001b[0m\u001b[1;36m1200\u001b[0m\u001b[1;33m,\u001b[0m\u001b[1;34m'Diesel'\u001b[0m\u001b[1;33m,\u001b[0m\u001b[1;36m500\u001b[0m\u001b[1;33m,\u001b[0m\u001b[1;36m6\u001b[0m\u001b[1;33m,\u001b[0m\u001b[1;36m5\u001b[0m\u001b[1;33m,\u001b[0m\u001b[0mauto_gear\u001b[0m\u001b[1;33m=\u001b[0m\u001b[1;32mTrue\u001b[0m\u001b[1;33m)\u001b[0m\u001b[1;33m\u001b[0m\u001b[0m\n\u001b[0m\u001b[0;32m      5\u001b[0m     \u001b[0mprint\u001b[0m\u001b[1;33m(\u001b[0m\u001b[1;34m'No of Vehicles: '\u001b[0m\u001b[1;33m,\u001b[0m\u001b[0mVehicle\u001b[0m\u001b[1;33m.\u001b[0m\u001b[0m_Vehicle__no_of_vehicles\u001b[0m\u001b[1;33m)\u001b[0m \u001b[1;31m# brain storm how\u001b[0m\u001b[1;33m\u001b[0m\u001b[0m\n",
      "\u001b[1;32m<ipython-input-24-0749f9c3359e>\u001b[0m in \u001b[0;36m__init__\u001b[1;34m(self, color, model_year, make, cc, fuel_type, distance_per_charge, charging_time, gears, max_passenger, auto_gear)\u001b[0m\n\u001b[0;32m     26\u001b[0m     \u001b[1;32mdef\u001b[0m \u001b[0m__init__\u001b[0m\u001b[1;33m(\u001b[0m\u001b[0mself\u001b[0m\u001b[1;33m,\u001b[0m \u001b[0mcolor\u001b[0m\u001b[1;33m,\u001b[0m \u001b[0mmodel_year\u001b[0m\u001b[1;33m,\u001b[0m \u001b[0mmake\u001b[0m\u001b[1;33m,\u001b[0m \u001b[0mcc\u001b[0m\u001b[1;33m,\u001b[0m \u001b[0mfuel_type\u001b[0m\u001b[1;33m,\u001b[0m \u001b[0mdistance_per_charge\u001b[0m\u001b[1;33m,\u001b[0m \u001b[0mcharging_time\u001b[0m\u001b[1;33m,\u001b[0m \u001b[0mgears\u001b[0m\u001b[1;33m,\u001b[0m \u001b[0mmax_passenger\u001b[0m\u001b[1;33m=\u001b[0m\u001b[1;36m5\u001b[0m\u001b[1;33m,\u001b[0m \u001b[0mauto_gear\u001b[0m\u001b[1;33m=\u001b[0m\u001b[1;32mFalse\u001b[0m\u001b[1;33m)\u001b[0m\u001b[1;33m:\u001b[0m\u001b[1;33m\u001b[0m\u001b[0m\n\u001b[0;32m     27\u001b[0m         \u001b[0mprint\u001b[0m\u001b[1;33m(\u001b[0m\u001b[1;34m'Hybrid Car'\u001b[0m\u001b[1;33m)\u001b[0m\u001b[1;33m\u001b[0m\u001b[0m\n\u001b[1;32m---> 28\u001b[1;33m         \u001b[0msuper\u001b[0m\u001b[1;33m(\u001b[0m\u001b[1;33m)\u001b[0m\u001b[1;33m.\u001b[0m\u001b[0m__init__\u001b[0m\u001b[1;33m(\u001b[0m\u001b[0mcolor\u001b[0m\u001b[1;33m,\u001b[0m \u001b[0mmodel_year\u001b[0m\u001b[1;33m,\u001b[0m \u001b[0mmake\u001b[0m\u001b[1;33m,\u001b[0m \u001b[0mcc\u001b[0m\u001b[1;33m,\u001b[0m \u001b[0mfuel_type\u001b[0m\u001b[1;33m,\u001b[0m \u001b[0mdistance_per_charge\u001b[0m\u001b[1;33m,\u001b[0m \u001b[0mcharging_time\u001b[0m\u001b[1;33m)\u001b[0m\u001b[1;33m\u001b[0m\u001b[0m\n\u001b[0m\u001b[0;32m     29\u001b[0m         \u001b[0mself\u001b[0m\u001b[1;33m.\u001b[0m\u001b[0mmax_passenger\u001b[0m \u001b[1;33m=\u001b[0m \u001b[0mmax_passenger\u001b[0m\u001b[1;33m\u001b[0m\u001b[0m\n\u001b[0;32m     30\u001b[0m         \u001b[0mself\u001b[0m\u001b[1;33m.\u001b[0m\u001b[0mgears\u001b[0m \u001b[1;33m=\u001b[0m \u001b[0mgears\u001b[0m\u001b[1;33m\u001b[0m\u001b[0m\n",
      "\u001b[1;32m<ipython-input-23-0de984a4b9d0>\u001b[0m in \u001b[0;36m__init__\u001b[1;34m(self, color, model_year, make, cc, fuel_type, distance_per_charge, charging_time)\u001b[0m\n\u001b[0;32m      3\u001b[0m     \u001b[1;32mdef\u001b[0m \u001b[0m__init__\u001b[0m\u001b[1;33m(\u001b[0m\u001b[0mself\u001b[0m\u001b[1;33m,\u001b[0m \u001b[0mcolor\u001b[0m\u001b[1;33m,\u001b[0m \u001b[0mmodel_year\u001b[0m\u001b[1;33m,\u001b[0m \u001b[0mmake\u001b[0m\u001b[1;33m,\u001b[0m \u001b[0mcc\u001b[0m\u001b[1;33m,\u001b[0m \u001b[0mfuel_type\u001b[0m\u001b[1;33m,\u001b[0m \u001b[0mdistance_per_charge\u001b[0m\u001b[1;33m,\u001b[0m \u001b[0mcharging_time\u001b[0m\u001b[1;33m)\u001b[0m\u001b[1;33m:\u001b[0m\u001b[1;33m\u001b[0m\u001b[0m\n\u001b[0;32m      4\u001b[0m         \u001b[0mprint\u001b[0m\u001b[1;33m(\u001b[0m\u001b[1;34m'Hybrid Vehicle'\u001b[0m\u001b[1;33m)\u001b[0m\u001b[1;33m\u001b[0m\u001b[0m\n\u001b[1;32m----> 5\u001b[1;33m         \u001b[0mFuelVehicle\u001b[0m\u001b[1;33m.\u001b[0m\u001b[0m__init__\u001b[0m\u001b[1;33m(\u001b[0m\u001b[0mself\u001b[0m\u001b[1;33m,\u001b[0m \u001b[0mcolor\u001b[0m\u001b[1;33m,\u001b[0m \u001b[0mmodel_year\u001b[0m\u001b[1;33m,\u001b[0m \u001b[0mmake\u001b[0m\u001b[1;33m,\u001b[0m \u001b[0mcc\u001b[0m\u001b[1;33m,\u001b[0m \u001b[0mfuel_type\u001b[0m\u001b[1;33m)\u001b[0m \u001b[1;31m# adding parent's init() function\u001b[0m\u001b[1;33m\u001b[0m\u001b[0m\n\u001b[0m\u001b[0;32m      6\u001b[0m         \u001b[0mElectricVehicle\u001b[0m\u001b[1;33m.\u001b[0m\u001b[0m__init__\u001b[0m\u001b[1;33m(\u001b[0m\u001b[0mself\u001b[0m\u001b[1;33m,\u001b[0m\u001b[0mcolor\u001b[0m\u001b[1;33m,\u001b[0m \u001b[0mmodel_year\u001b[0m\u001b[1;33m,\u001b[0m \u001b[0mmake\u001b[0m\u001b[1;33m,\u001b[0m \u001b[0mdistance_per_charge\u001b[0m\u001b[1;33m,\u001b[0m \u001b[0mcharging_time\u001b[0m\u001b[1;33m)\u001b[0m \u001b[1;31m# adding parent's init() function\u001b[0m\u001b[1;33m\u001b[0m\u001b[0m\n\u001b[0;32m      7\u001b[0m         \u001b[0mHybridVehicle\u001b[0m\u001b[1;33m.\u001b[0m\u001b[0m___no_of_HybridVehicles\u001b[0m\u001b[1;33m+=\u001b[0m\u001b[1;36m1\u001b[0m\u001b[1;33m\u001b[0m\u001b[0m\n",
      "\u001b[1;32m<ipython-input-22-99417d39dae2>\u001b[0m in \u001b[0;36m__init__\u001b[1;34m(self, color, model_year, make, cc, fuel_type)\u001b[0m\n\u001b[0;32m      3\u001b[0m     \u001b[1;32mdef\u001b[0m \u001b[0m__init__\u001b[0m\u001b[1;33m(\u001b[0m\u001b[0mself\u001b[0m\u001b[1;33m,\u001b[0m \u001b[0mcolor\u001b[0m\u001b[1;33m,\u001b[0m \u001b[0mmodel_year\u001b[0m\u001b[1;33m,\u001b[0m \u001b[0mmake\u001b[0m\u001b[1;33m,\u001b[0m \u001b[0mcc\u001b[0m\u001b[1;33m,\u001b[0m \u001b[0mfuel_type\u001b[0m\u001b[1;33m)\u001b[0m\u001b[1;33m:\u001b[0m\u001b[1;33m\u001b[0m\u001b[0m\n\u001b[0;32m      4\u001b[0m         \u001b[0mprint\u001b[0m\u001b[1;33m(\u001b[0m\u001b[1;34m'Fuel Vehicle'\u001b[0m\u001b[1;33m)\u001b[0m\u001b[1;33m\u001b[0m\u001b[0m\n\u001b[1;32m----> 5\u001b[1;33m         \u001b[0msuper\u001b[0m\u001b[1;33m(\u001b[0m\u001b[1;33m)\u001b[0m\u001b[1;33m.\u001b[0m\u001b[0m__init__\u001b[0m\u001b[1;33m(\u001b[0m\u001b[0mcolor\u001b[0m\u001b[1;33m,\u001b[0m \u001b[0mmodel_year\u001b[0m\u001b[1;33m,\u001b[0m \u001b[0mmake\u001b[0m\u001b[1;33m)\u001b[0m\u001b[1;33m\u001b[0m\u001b[0m\n\u001b[0m\u001b[0;32m      6\u001b[0m         \u001b[0mself\u001b[0m\u001b[1;33m.\u001b[0m\u001b[0mcc\u001b[0m \u001b[1;33m=\u001b[0m \u001b[0mcc\u001b[0m\u001b[1;33m\u001b[0m\u001b[0m\n\u001b[0;32m      7\u001b[0m         \u001b[0mself\u001b[0m\u001b[1;33m.\u001b[0m\u001b[0mfuel_type\u001b[0m \u001b[1;33m=\u001b[0m \u001b[0mfuel_type\u001b[0m\u001b[1;33m\u001b[0m\u001b[0m\n",
      "\u001b[1;31mTypeError\u001b[0m: __init__() missing 2 required positional arguments: 'distance_per_charge' and 'charging_time'"
     ]
    }
   ],
   "source": [
    "if __name__ == '__main__':\n",
    "    alto800 = Car('White',2018,'Maruti',800,'Petrol',4,4)\n",
    "    tesla = ElectricCar('Silver',2017,'Tesla',300,4,6,2,True)\n",
    "    camry = HybridCar('Black',2020,'Toyota',1200,'Diesel',500,6,5,auto_gear=True)\n",
    "    print('No of Vehicles: ',Vehicle._Vehicle__no_of_vehicles) # brain storm how "
   ]
  },
  {
   "cell_type": "code",
   "execution_count": null,
   "metadata": {},
   "outputs": [],
   "source": []
  }
 ],
 "metadata": {
  "kernelspec": {
   "display_name": "Python 3",
   "language": "python",
   "name": "python3"
  },
  "language_info": {
   "codemirror_mode": {
    "name": "ipython",
    "version": 3
   },
   "file_extension": ".py",
   "mimetype": "text/x-python",
   "name": "python",
   "nbconvert_exporter": "python",
   "pygments_lexer": "ipython3",
   "version": "3.6.4"
  }
 },
 "nbformat": 4,
 "nbformat_minor": 2
}
