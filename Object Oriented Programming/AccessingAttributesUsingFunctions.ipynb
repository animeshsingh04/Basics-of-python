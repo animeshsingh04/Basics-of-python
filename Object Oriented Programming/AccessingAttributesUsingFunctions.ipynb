{
 "cells": [
  {
   "cell_type": "code",
   "execution_count": 3,
   "metadata": {},
   "outputs": [],
   "source": [
    "import math"
   ]
  },
  {
   "cell_type": "markdown",
   "metadata": {},
   "source": [
    "# Instance Attribute\n",
    "An instance attribute is a Python variable belonging to one, and only one, object. This variable is only accessible in the scope of this object and it is defined inside the constructor function, __init__(self,..) of the class."
   ]
  },
  {
   "cell_type": "code",
   "execution_count": 4,
   "metadata": {},
   "outputs": [],
   "source": [
    "class Circle:\n",
    "    def __init__(self, radius, unit='m'):\n",
    "        self.radius = radius #instance attribute.\n",
    "        self.unit = unit\n",
    "        self.area = round(math.pi * (radius**2),2)\n",
    "obj = Circle(2,'cm')\n"
   ]
  },
  {
   "cell_type": "markdown",
   "metadata": {},
   "source": [
    "<strong>Note: </strong> Radius, unit and area is an instance attribute that is accessible only through object reference. <br></br>\n",
    "We can use <strong>self</strong> keyword to access the attributes. If you're familiar with java/c# you can consider self as this in java/c#"
   ]
  },
  {
   "cell_type": "markdown",
   "metadata": {},
   "source": [
    "# Class Attribute\n",
    "A class attribute is a Python variable that belongs to a class rather than a particular object. It is shared between all the objects of this class and it is defined outside the constructor function, __init__(self,...), of the class. <br> </br> <br></br>\n",
    "The class attribute (class_attr) is accessible as both a property of the class and as a property of objects, as it is shared between all of them"
   ]
  },
  {
   "cell_type": "code",
   "execution_count": 5,
   "metadata": {},
   "outputs": [
    {
     "name": "stdout",
     "output_type": "stream",
     "text": [
      "Circle created with area 12.57 cm²\n"
     ]
    }
   ],
   "source": [
    "class Circle:\n",
    "    classAttribute = 'Im a Class Attribute' #class Attribute\n",
    "    def __init__(self, radius, unit='m'):\n",
    "        self.radius = radius\n",
    "        self.unit = unit\n",
    "        self.area = round(math.pi * (radius**2),2)\n",
    "        print('Circle created with area {0} {1}\\u00b2'.format(self.area,unit))\n",
    "\n",
    "    def findArea(self):\n",
    "        print('Circle Area {0} {1}\\u00b2'.format(round(math.pi * (self.radius**2),2), self.unit))\n",
    " \n",
    "    def findCircumference(self):\n",
    "        print('Circle Circumference is {0} {1}'.format(self.circumference, self.unit))\n",
    "circle = Circle(2,'cm')"
   ]
  },
  {
   "cell_type": "markdown",
   "metadata": {},
   "source": [
    "<strong>The getattr() </strong>function returns the value of the specified attribute from the specified object.\n",
    "<br></br><br></br>\n",
    "<strong> Syntax:</strong>\n",
    "getattr(object, attribute, default)\n",
    "<br>object\tRequired. An object.\n",
    "<br>attribute\tThe name of the attribute you want to get the value from\n",
    "<br>default\tOptional. The value to return if the attribute does not exist"
   ]
  },
  {
   "cell_type": "code",
   "execution_count": 6,
   "metadata": {},
   "outputs": [
    {
     "name": "stdout",
     "output_type": "stream",
     "text": [
      "Area  12.57\n"
     ]
    }
   ],
   "source": [
    "a = getattr(circle,'area')\n",
    "print('Area ',a)"
   ]
  },
  {
   "cell_type": "markdown",
   "metadata": {},
   "source": [
    "<strong>The hasattr()</strong> function returns True if the specified object has the specified attribute, otherwise False<br>\n",
    "<strong>Syntax:</strong> hasattr(object, attribute)"
   ]
  },
  {
   "cell_type": "code",
   "execution_count": 7,
   "metadata": {},
   "outputs": [
    {
     "name": "stdout",
     "output_type": "stream",
     "text": [
      "Has Circumference?  False\n"
     ]
    }
   ],
   "source": [
    "print('Has Circumference? ',hasattr(circle,'circumference'))"
   ]
  },
  {
   "cell_type": "code",
   "execution_count": 8,
   "metadata": {},
   "outputs": [
    {
     "name": "stdout",
     "output_type": "stream",
     "text": [
      "Has Circumference?  True\n"
     ]
    }
   ],
   "source": [
    "circle.circumference = 2 * math.pi * circle.radius\n",
    "print('Has Circumference? ',hasattr(circle,'circumference'))"
   ]
  },
  {
   "cell_type": "code",
   "execution_count": 9,
   "metadata": {},
   "outputs": [
    {
     "name": "stdout",
     "output_type": "stream",
     "text": [
      "Circle Circumference is 12.566370614359172 cm\n"
     ]
    }
   ],
   "source": [
    "circle.findCircumference()"
   ]
  },
  {
   "cell_type": "markdown",
   "metadata": {},
   "source": [
    "<strong>The setattr()</strong> function sets the value of the specified attribute of the specified object\n",
    "<br>\n",
    "<strong>syntax:</strong>setattr(object, attribute, value)"
   ]
  },
  {
   "cell_type": "code",
   "execution_count": 10,
   "metadata": {},
   "outputs": [
    {
     "name": "stdout",
     "output_type": "stream",
     "text": [
      "Circle Area 78.54 mm²\n"
     ]
    }
   ],
   "source": [
    "setattr(circle,'radius',5)\n",
    "setattr(circle,'unit','mm')\n",
    "circle.findArea()"
   ]
  },
  {
   "cell_type": "code",
   "execution_count": 11,
   "metadata": {},
   "outputs": [],
   "source": [
    "delattr(circle, 'circumference')"
   ]
  },
  {
   "cell_type": "code",
   "execution_count": 12,
   "metadata": {},
   "outputs": [
    {
     "name": "stdout",
     "output_type": "stream",
     "text": [
      "Has Circumference?  False\n"
     ]
    }
   ],
   "source": [
    "print('Has Circumference? ',hasattr(circle,'circumference'))"
   ]
  },
  {
   "cell_type": "code",
   "execution_count": 13,
   "metadata": {},
   "outputs": [
    {
     "name": "stdout",
     "output_type": "stream",
     "text": [
      "Has Class Attribute?  True\n"
     ]
    }
   ],
   "source": [
    "print('Has Class Attribute? ',hasattr(Circle,'classAttribute'))"
   ]
  },
  {
   "cell_type": "code",
   "execution_count": 14,
   "metadata": {},
   "outputs": [
    {
     "name": "stdout",
     "output_type": "stream",
     "text": [
      "Im a Class Attribute\n"
     ]
    }
   ],
   "source": [
    "print(getattr(Circle,'classAttribute'))"
   ]
  },
  {
   "cell_type": "code",
   "execution_count": 15,
   "metadata": {},
   "outputs": [],
   "source": [
    "setattr(Circle,'classAttribute','Im a Class Attribute Still..')"
   ]
  },
  {
   "cell_type": "code",
   "execution_count": 16,
   "metadata": {},
   "outputs": [
    {
     "name": "stdout",
     "output_type": "stream",
     "text": [
      "Im a Class Attribute Still..\n"
     ]
    }
   ],
   "source": [
    "print(getattr(Circle,'classAttribute'))"
   ]
  },
  {
   "cell_type": "code",
   "execution_count": 17,
   "metadata": {},
   "outputs": [
    {
     "name": "stdout",
     "output_type": "stream",
     "text": [
      "Has Class Attribute?  False\n"
     ]
    }
   ],
   "source": [
    "delattr(Circle, 'classAttribute')\n",
    "print('Has Class Attribute? ',hasattr(Circle,'classAttribute'))"
   ]
  },
  {
   "cell_type": "markdown",
   "metadata": {},
   "source": [
    "<h3> To knw all the attributes of the class we have an in-built function </h3>"
   ]
  },
  {
   "cell_type": "raw",
   "metadata": {},
   "source": [
    "Syntax: (className.__dict__)\n",
    "It returns the result in dictionary format"
   ]
  },
  {
   "cell_type": "code",
   "execution_count": 20,
   "metadata": {},
   "outputs": [
    {
     "data": {
      "text/plain": [
       "mappingproxy({'__module__': '__main__',\n",
       "              '__init__': <function __main__.Circle.__init__(self, radius, unit='m')>,\n",
       "              'findArea': <function __main__.Circle.findArea(self)>,\n",
       "              'findCircumference': <function __main__.Circle.findCircumference(self)>,\n",
       "              '__dict__': <attribute '__dict__' of 'Circle' objects>,\n",
       "              '__weakref__': <attribute '__weakref__' of 'Circle' objects>,\n",
       "              '__doc__': None})"
      ]
     },
     "execution_count": 20,
     "metadata": {},
     "output_type": "execute_result"
    }
   ],
   "source": [
    "Circle.__dict__"
   ]
  },
  {
   "cell_type": "markdown",
   "metadata": {},
   "source": [
    "<h3> To knw all the attributes of the class we have an in-built function </h3>"
   ]
  },
  {
   "cell_type": "raw",
   "metadata": {},
   "source": [
    "Syntax: objectName.__dict__ , Here circle is object of a Circle class"
   ]
  },
  {
   "cell_type": "code",
   "execution_count": 21,
   "metadata": {},
   "outputs": [
    {
     "data": {
      "text/plain": [
       "{'radius': 5, 'unit': 'mm', 'area': 12.57}"
      ]
     },
     "execution_count": 21,
     "metadata": {},
     "output_type": "execute_result"
    }
   ],
   "source": [
    "circle.__dict__ "
   ]
  },
  {
   "cell_type": "code",
   "execution_count": null,
   "metadata": {},
   "outputs": [],
   "source": []
  }
 ],
 "metadata": {
  "kernelspec": {
   "display_name": "Python 3",
   "language": "python",
   "name": "python3"
  },
  "language_info": {
   "codemirror_mode": {
    "name": "ipython",
    "version": 3
   },
   "file_extension": ".py",
   "mimetype": "text/x-python",
   "name": "python",
   "nbconvert_exporter": "python",
   "pygments_lexer": "ipython3",
   "version": "3.6.4"
  }
 },
 "nbformat": 4,
 "nbformat_minor": 2
}
